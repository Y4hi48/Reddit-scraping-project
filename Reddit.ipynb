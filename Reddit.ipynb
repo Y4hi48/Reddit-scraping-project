{
 "cells": [
  {
   "cell_type": "code",
   "execution_count": 1,
   "metadata": {
    "colab": {
     "base_uri": "https://localhost:8080/"
    },
    "id": "b6A7FEAYWNv4",
    "outputId": "df5160e9-8ed0-443e-b356-04e6bda00498",
    "scrolled": true
   },
   "outputs": [
    {
     "name": "stdout",
     "output_type": "stream",
     "text": [
      "Collecting praw\n",
      "  Obtaining dependency information for praw from https://files.pythonhosted.org/packages/81/6a/21bc058bcccbe03f6a0895bf1bd60c805f0c526aa4e9bfaac775ed0b299c/praw-7.7.1-py3-none-any.whl.metadata\n",
      "  Downloading praw-7.7.1-py3-none-any.whl.metadata (9.8 kB)\n",
      "Collecting prawcore<3,>=2.1 (from praw)\n",
      "  Obtaining dependency information for prawcore<3,>=2.1 from https://files.pythonhosted.org/packages/96/5c/8af904314e42d5401afcfaff69940dc448e974f80f7aa39b241a4fbf0cf1/prawcore-2.4.0-py3-none-any.whl.metadata\n",
      "  Downloading prawcore-2.4.0-py3-none-any.whl.metadata (5.0 kB)\n",
      "Collecting update-checker>=0.18 (from praw)\n",
      "  Downloading update_checker-0.18.0-py3-none-any.whl (7.0 kB)\n",
      "Requirement already satisfied: websocket-client>=0.54.0 in c:\\users\\yahia\\anaconda3\\lib\\site-packages (from praw) (0.58.0)\n",
      "Requirement already satisfied: requests<3.0,>=2.6.0 in c:\\users\\yahia\\anaconda3\\lib\\site-packages (from prawcore<3,>=2.1->praw) (2.31.0)\n",
      "Requirement already satisfied: six in c:\\users\\yahia\\anaconda3\\lib\\site-packages (from websocket-client>=0.54.0->praw) (1.16.0)\n",
      "Requirement already satisfied: charset-normalizer<4,>=2 in c:\\users\\yahia\\anaconda3\\lib\\site-packages (from requests<3.0,>=2.6.0->prawcore<3,>=2.1->praw) (2.0.4)\n",
      "Requirement already satisfied: idna<4,>=2.5 in c:\\users\\yahia\\anaconda3\\lib\\site-packages (from requests<3.0,>=2.6.0->prawcore<3,>=2.1->praw) (3.4)\n",
      "Requirement already satisfied: urllib3<3,>=1.21.1 in c:\\users\\yahia\\anaconda3\\lib\\site-packages (from requests<3.0,>=2.6.0->prawcore<3,>=2.1->praw) (1.26.16)\n",
      "Requirement already satisfied: certifi>=2017.4.17 in c:\\users\\yahia\\anaconda3\\lib\\site-packages (from requests<3.0,>=2.6.0->prawcore<3,>=2.1->praw) (2023.11.17)\n",
      "Downloading praw-7.7.1-py3-none-any.whl (191 kB)\n",
      "   ---------------------------------------- 0.0/191.0 kB ? eta -:--:--\n",
      "   -------- ------------------------------ 41.0/191.0 kB 960.0 kB/s eta 0:00:01\n",
      "   -------------------------------------- - 184.3/191.0 kB 2.2 MB/s eta 0:00:01\n",
      "   ---------------------------------------- 191.0/191.0 kB 1.9 MB/s eta 0:00:00\n",
      "Downloading prawcore-2.4.0-py3-none-any.whl (17 kB)\n",
      "Installing collected packages: update-checker, prawcore, praw\n",
      "Successfully installed praw-7.7.1 prawcore-2.4.0 update-checker-0.18.0\n",
      "Note: you may need to restart the kernel to use updated packages.\n"
     ]
    }
   ],
   "source": [
    "pip install praw"
   ]
  },
  {
   "cell_type": "code",
   "execution_count": 5,
   "metadata": {
    "colab": {
     "base_uri": "https://localhost:8080/"
    },
    "id": "fMdT_XXhZBoE",
    "outputId": "c3b8a534-10fc-4a32-8ce4-462cf87b0168"
   },
   "outputs": [
    {
     "name": "stderr",
     "output_type": "stream",
     "text": [
      "[nltk_data] Downloading package vader_lexicon to\n",
      "[nltk_data]     C:\\Users\\YAhia\\AppData\\Roaming\\nltk_data...\n",
      "[nltk_data]   Package vader_lexicon is already up-to-date!\n"
     ]
    }
   ],
   "source": [
    "from pprint import pprint\n",
    "import pandas as pd\n",
    "import numpy as np\n",
    "import matplotlib.pyplot as plt\n",
    "import seaborn as sns\n",
    "import praw\n",
    "import nltk\n",
    "nltk.download('vader_lexicon')\n",
    "from nltk.sentiment.vader import SentimentIntensityAnalyzer as SIA"
   ]
  },
  {
   "cell_type": "code",
   "execution_count": 6,
   "metadata": {
    "id": "_ZRZMCKaZZWf"
   },
   "outputs": [],
   "source": [
    "reddit=praw.Reddit(\n",
    "    client_id=\"D5g3Wq6BmGcJCgfXOYyB-Q\",\n",
    "    client_secret=\"B-mZy2wiDVnU0O_kyzBE2mGIMIjEog\",\n",
    "    user_agent=\"Scraper 1.0 by /u/LaazyPixie\"\n",
    ")\n",
    "\n"
   ]
  },
  {
   "cell_type": "code",
   "execution_count": 7,
   "metadata": {
    "colab": {
     "base_uri": "https://localhost:8080/",
     "height": 910
    },
    "id": "6pzAFc6abeWl",
    "outputId": "daa6a909-c487-465e-a318-b331ce706385"
   },
   "outputs": [
    {
     "data": {
      "text/html": [
       "<div>\n",
       "<style scoped>\n",
       "    .dataframe tbody tr th:only-of-type {\n",
       "        vertical-align: middle;\n",
       "    }\n",
       "\n",
       "    .dataframe tbody tr th {\n",
       "        vertical-align: top;\n",
       "    }\n",
       "\n",
       "    .dataframe thead th {\n",
       "        text-align: right;\n",
       "    }\n",
       "</style>\n",
       "<table border=\"1\" class=\"dataframe\">\n",
       "  <thead>\n",
       "    <tr style=\"text-align: right;\">\n",
       "      <th></th>\n",
       "      <th>0</th>\n",
       "    </tr>\n",
       "  </thead>\n",
       "  <tbody>\n",
       "    <tr>\n",
       "      <th>0</th>\n",
       "      <td>Trump received millions of dollars from foreig...</td>\n",
       "    </tr>\n",
       "    <tr>\n",
       "      <th>1</th>\n",
       "      <td>Ahead of second E. Jean Carroll trial, Trump h...</td>\n",
       "    </tr>\n",
       "    <tr>\n",
       "      <th>2</th>\n",
       "      <td>Transcript: Biden’s first campaign speech of t...</td>\n",
       "    </tr>\n",
       "    <tr>\n",
       "      <th>3</th>\n",
       "      <td>$8.5 Trillion in Untaxed Assets: Data Shows Wh...</td>\n",
       "    </tr>\n",
       "    <tr>\n",
       "      <th>4</th>\n",
       "      <td>Joe Biden just delivered the speech Democrats ...</td>\n",
       "    </tr>\n",
       "    <tr>\n",
       "      <th>...</th>\n",
       "      <td>...</td>\n",
       "    </tr>\n",
       "    <tr>\n",
       "      <th>705</th>\n",
       "      <td>How the GOP’s rewriting of Jan. 6 paved the wa...</td>\n",
       "    </tr>\n",
       "    <tr>\n",
       "      <th>706</th>\n",
       "      <td>Why Are Republicans So Bad at Podcasting? Ted ...</td>\n",
       "    </tr>\n",
       "    <tr>\n",
       "      <th>707</th>\n",
       "      <td>Massachusetts Democrats call for removing Cuba...</td>\n",
       "    </tr>\n",
       "    <tr>\n",
       "      <th>708</th>\n",
       "      <td>Trump’s evangelical voters remain loyal as he ...</td>\n",
       "    </tr>\n",
       "    <tr>\n",
       "      <th>709</th>\n",
       "      <td>New rule designed to protect LGBTQ foster chil...</td>\n",
       "    </tr>\n",
       "  </tbody>\n",
       "</table>\n",
       "<p>710 rows × 1 columns</p>\n",
       "</div>"
      ],
      "text/plain": [
       "                                                     0\n",
       "0    Trump received millions of dollars from foreig...\n",
       "1    Ahead of second E. Jean Carroll trial, Trump h...\n",
       "2    Transcript: Biden’s first campaign speech of t...\n",
       "3    $8.5 Trillion in Untaxed Assets: Data Shows Wh...\n",
       "4    Joe Biden just delivered the speech Democrats ...\n",
       "..                                                 ...\n",
       "705  How the GOP’s rewriting of Jan. 6 paved the wa...\n",
       "706  Why Are Republicans So Bad at Podcasting? Ted ...\n",
       "707  Massachusetts Democrats call for removing Cuba...\n",
       "708  Trump’s evangelical voters remain loyal as he ...\n",
       "709  New rule designed to protect LGBTQ foster chil...\n",
       "\n",
       "[710 rows x 1 columns]"
      ]
     },
     "execution_count": 7,
     "metadata": {},
     "output_type": "execute_result"
    }
   ],
   "source": [
    "headlines=set()\n",
    "for subred in reddit.subreddit('politics').hot(limit=None):\n",
    "  headlines.add(subred.title)\n",
    "df=pd.DataFrame(headlines)\n",
    "df"
   ]
  },
  {
   "cell_type": "code",
   "execution_count": 8,
   "metadata": {
    "id": "46zCrTnBdIvN"
   },
   "outputs": [],
   "source": [
    "df.to_csv('headlines.csv',header=False,index=False,encoding='utf-8')"
   ]
  },
  {
   "cell_type": "code",
   "execution_count": 10,
   "metadata": {
    "colab": {
     "base_uri": "https://localhost:8080/"
    },
    "id": "OdJFYNnQdt6t",
    "outputId": "44037e9f-9b1f-4b40-e094-dd8ca926ad44"
   },
   "outputs": [
    {
     "name": "stderr",
     "output_type": "stream",
     "text": [
      "[nltk_data] Downloading package vader_lexicon to\n",
      "[nltk_data]     C:\\Users\\YAhia\\AppData\\Roaming\\nltk_data...\n",
      "[nltk_data]   Package vader_lexicon is already up-to-date!\n"
     ]
    },
    {
     "data": {
      "text/plain": [
       "True"
      ]
     },
     "execution_count": 10,
     "metadata": {},
     "output_type": "execute_result"
    }
   ],
   "source": [
    "nltk.download('vader_lexicon')"
   ]
  },
  {
   "cell_type": "code",
   "execution_count": 9,
   "metadata": {
    "colab": {
     "base_uri": "https://localhost:8080/",
     "height": 424
    },
    "id": "qKyxjZu4eA_r",
    "outputId": "2fff139d-52f7-4547-ed12-0b9179fc4817"
   },
   "outputs": [
    {
     "data": {
      "text/html": [
       "<div>\n",
       "<style scoped>\n",
       "    .dataframe tbody tr th:only-of-type {\n",
       "        vertical-align: middle;\n",
       "    }\n",
       "\n",
       "    .dataframe tbody tr th {\n",
       "        vertical-align: top;\n",
       "    }\n",
       "\n",
       "    .dataframe thead th {\n",
       "        text-align: right;\n",
       "    }\n",
       "</style>\n",
       "<table border=\"1\" class=\"dataframe\">\n",
       "  <thead>\n",
       "    <tr style=\"text-align: right;\">\n",
       "      <th></th>\n",
       "      <th>neg</th>\n",
       "      <th>neu</th>\n",
       "      <th>pos</th>\n",
       "      <th>compound</th>\n",
       "      <th>headline</th>\n",
       "    </tr>\n",
       "  </thead>\n",
       "  <tbody>\n",
       "    <tr>\n",
       "      <th>0</th>\n",
       "      <td>0.000</td>\n",
       "      <td>1.000</td>\n",
       "      <td>0.000</td>\n",
       "      <td>0.0000</td>\n",
       "      <td>Trump received millions of dollars from foreig...</td>\n",
       "    </tr>\n",
       "    <tr>\n",
       "      <th>1</th>\n",
       "      <td>0.000</td>\n",
       "      <td>1.000</td>\n",
       "      <td>0.000</td>\n",
       "      <td>0.0000</td>\n",
       "      <td>Ahead of second E. Jean Carroll trial, Trump h...</td>\n",
       "    </tr>\n",
       "    <tr>\n",
       "      <th>2</th>\n",
       "      <td>0.000</td>\n",
       "      <td>1.000</td>\n",
       "      <td>0.000</td>\n",
       "      <td>0.0000</td>\n",
       "      <td>Transcript: Biden’s first campaign speech of t...</td>\n",
       "    </tr>\n",
       "    <tr>\n",
       "      <th>3</th>\n",
       "      <td>0.000</td>\n",
       "      <td>0.843</td>\n",
       "      <td>0.157</td>\n",
       "      <td>0.7778</td>\n",
       "      <td>$8.5 Trillion in Untaxed Assets: Data Shows Wh...</td>\n",
       "    </tr>\n",
       "    <tr>\n",
       "      <th>4</th>\n",
       "      <td>0.150</td>\n",
       "      <td>0.850</td>\n",
       "      <td>0.000</td>\n",
       "      <td>-0.3182</td>\n",
       "      <td>Joe Biden just delivered the speech Democrats ...</td>\n",
       "    </tr>\n",
       "    <tr>\n",
       "      <th>...</th>\n",
       "      <td>...</td>\n",
       "      <td>...</td>\n",
       "      <td>...</td>\n",
       "      <td>...</td>\n",
       "      <td>...</td>\n",
       "    </tr>\n",
       "    <tr>\n",
       "      <th>705</th>\n",
       "      <td>0.000</td>\n",
       "      <td>1.000</td>\n",
       "      <td>0.000</td>\n",
       "      <td>0.0000</td>\n",
       "      <td>How the GOP’s rewriting of Jan. 6 paved the wa...</td>\n",
       "    </tr>\n",
       "    <tr>\n",
       "      <th>706</th>\n",
       "      <td>0.288</td>\n",
       "      <td>0.712</td>\n",
       "      <td>0.000</td>\n",
       "      <td>-0.7841</td>\n",
       "      <td>Why Are Republicans So Bad at Podcasting? Ted ...</td>\n",
       "    </tr>\n",
       "    <tr>\n",
       "      <th>707</th>\n",
       "      <td>0.298</td>\n",
       "      <td>0.702</td>\n",
       "      <td>0.000</td>\n",
       "      <td>-0.5267</td>\n",
       "      <td>Massachusetts Democrats call for removing Cuba...</td>\n",
       "    </tr>\n",
       "    <tr>\n",
       "      <th>708</th>\n",
       "      <td>0.214</td>\n",
       "      <td>0.584</td>\n",
       "      <td>0.201</td>\n",
       "      <td>-0.0516</td>\n",
       "      <td>Trump’s evangelical voters remain loyal as he ...</td>\n",
       "    </tr>\n",
       "    <tr>\n",
       "      <th>709</th>\n",
       "      <td>0.000</td>\n",
       "      <td>0.794</td>\n",
       "      <td>0.206</td>\n",
       "      <td>0.3818</td>\n",
       "      <td>New rule designed to protect LGBTQ foster chil...</td>\n",
       "    </tr>\n",
       "  </tbody>\n",
       "</table>\n",
       "<p>710 rows × 5 columns</p>\n",
       "</div>"
      ],
      "text/plain": [
       "       neg    neu    pos  compound  \\\n",
       "0    0.000  1.000  0.000    0.0000   \n",
       "1    0.000  1.000  0.000    0.0000   \n",
       "2    0.000  1.000  0.000    0.0000   \n",
       "3    0.000  0.843  0.157    0.7778   \n",
       "4    0.150  0.850  0.000   -0.3182   \n",
       "..     ...    ...    ...       ...   \n",
       "705  0.000  1.000  0.000    0.0000   \n",
       "706  0.288  0.712  0.000   -0.7841   \n",
       "707  0.298  0.702  0.000   -0.5267   \n",
       "708  0.214  0.584  0.201   -0.0516   \n",
       "709  0.000  0.794  0.206    0.3818   \n",
       "\n",
       "                                              headline  \n",
       "0    Trump received millions of dollars from foreig...  \n",
       "1    Ahead of second E. Jean Carroll trial, Trump h...  \n",
       "2    Transcript: Biden’s first campaign speech of t...  \n",
       "3    $8.5 Trillion in Untaxed Assets: Data Shows Wh...  \n",
       "4    Joe Biden just delivered the speech Democrats ...  \n",
       "..                                                 ...  \n",
       "705  How the GOP’s rewriting of Jan. 6 paved the wa...  \n",
       "706  Why Are Republicans So Bad at Podcasting? Ted ...  \n",
       "707  Massachusetts Democrats call for removing Cuba...  \n",
       "708  Trump’s evangelical voters remain loyal as he ...  \n",
       "709  New rule designed to protect LGBTQ foster chil...  \n",
       "\n",
       "[710 rows x 5 columns]"
      ]
     },
     "execution_count": 9,
     "metadata": {},
     "output_type": "execute_result"
    }
   ],
   "source": [
    "sia=SIA()\n",
    "results=[]\n",
    "for line in headlines:\n",
    "  pol_score=sia.polarity_scores(line)\n",
    "  pol_score['headline']=line\n",
    "  results.append(pol_score)\n",
    "df=pd.DataFrame.from_records(results)\n",
    "df"
   ]
  },
  {
   "cell_type": "code",
   "execution_count": 11,
   "metadata": {
    "colab": {
     "base_uri": "https://localhost:8080/",
     "height": 424
    },
    "id": "jiJ2HWrPgpIp",
    "outputId": "0f90c19b-9aa1-4522-9b8d-83d1f24cf9c2"
   },
   "outputs": [
    {
     "data": {
      "text/html": [
       "<div>\n",
       "<style scoped>\n",
       "    .dataframe tbody tr th:only-of-type {\n",
       "        vertical-align: middle;\n",
       "    }\n",
       "\n",
       "    .dataframe tbody tr th {\n",
       "        vertical-align: top;\n",
       "    }\n",
       "\n",
       "    .dataframe thead th {\n",
       "        text-align: right;\n",
       "    }\n",
       "</style>\n",
       "<table border=\"1\" class=\"dataframe\">\n",
       "  <thead>\n",
       "    <tr style=\"text-align: right;\">\n",
       "      <th></th>\n",
       "      <th>neg</th>\n",
       "      <th>neu</th>\n",
       "      <th>pos</th>\n",
       "      <th>compound</th>\n",
       "      <th>headline</th>\n",
       "      <th>score</th>\n",
       "    </tr>\n",
       "  </thead>\n",
       "  <tbody>\n",
       "    <tr>\n",
       "      <th>0</th>\n",
       "      <td>0.000</td>\n",
       "      <td>1.000</td>\n",
       "      <td>0.000</td>\n",
       "      <td>0.0000</td>\n",
       "      <td>Trump received millions of dollars from foreig...</td>\n",
       "      <td>0</td>\n",
       "    </tr>\n",
       "    <tr>\n",
       "      <th>1</th>\n",
       "      <td>0.000</td>\n",
       "      <td>1.000</td>\n",
       "      <td>0.000</td>\n",
       "      <td>0.0000</td>\n",
       "      <td>Ahead of second E. Jean Carroll trial, Trump h...</td>\n",
       "      <td>0</td>\n",
       "    </tr>\n",
       "    <tr>\n",
       "      <th>2</th>\n",
       "      <td>0.000</td>\n",
       "      <td>1.000</td>\n",
       "      <td>0.000</td>\n",
       "      <td>0.0000</td>\n",
       "      <td>Transcript: Biden’s first campaign speech of t...</td>\n",
       "      <td>0</td>\n",
       "    </tr>\n",
       "    <tr>\n",
       "      <th>3</th>\n",
       "      <td>0.000</td>\n",
       "      <td>0.843</td>\n",
       "      <td>0.157</td>\n",
       "      <td>0.7778</td>\n",
       "      <td>$8.5 Trillion in Untaxed Assets: Data Shows Wh...</td>\n",
       "      <td>1</td>\n",
       "    </tr>\n",
       "    <tr>\n",
       "      <th>4</th>\n",
       "      <td>0.150</td>\n",
       "      <td>0.850</td>\n",
       "      <td>0.000</td>\n",
       "      <td>-0.3182</td>\n",
       "      <td>Joe Biden just delivered the speech Democrats ...</td>\n",
       "      <td>-1</td>\n",
       "    </tr>\n",
       "    <tr>\n",
       "      <th>...</th>\n",
       "      <td>...</td>\n",
       "      <td>...</td>\n",
       "      <td>...</td>\n",
       "      <td>...</td>\n",
       "      <td>...</td>\n",
       "      <td>...</td>\n",
       "    </tr>\n",
       "    <tr>\n",
       "      <th>705</th>\n",
       "      <td>0.000</td>\n",
       "      <td>1.000</td>\n",
       "      <td>0.000</td>\n",
       "      <td>0.0000</td>\n",
       "      <td>How the GOP’s rewriting of Jan. 6 paved the wa...</td>\n",
       "      <td>0</td>\n",
       "    </tr>\n",
       "    <tr>\n",
       "      <th>706</th>\n",
       "      <td>0.288</td>\n",
       "      <td>0.712</td>\n",
       "      <td>0.000</td>\n",
       "      <td>-0.7841</td>\n",
       "      <td>Why Are Republicans So Bad at Podcasting? Ted ...</td>\n",
       "      <td>-1</td>\n",
       "    </tr>\n",
       "    <tr>\n",
       "      <th>707</th>\n",
       "      <td>0.298</td>\n",
       "      <td>0.702</td>\n",
       "      <td>0.000</td>\n",
       "      <td>-0.5267</td>\n",
       "      <td>Massachusetts Democrats call for removing Cuba...</td>\n",
       "      <td>-1</td>\n",
       "    </tr>\n",
       "    <tr>\n",
       "      <th>708</th>\n",
       "      <td>0.214</td>\n",
       "      <td>0.584</td>\n",
       "      <td>0.201</td>\n",
       "      <td>-0.0516</td>\n",
       "      <td>Trump’s evangelical voters remain loyal as he ...</td>\n",
       "      <td>0</td>\n",
       "    </tr>\n",
       "    <tr>\n",
       "      <th>709</th>\n",
       "      <td>0.000</td>\n",
       "      <td>0.794</td>\n",
       "      <td>0.206</td>\n",
       "      <td>0.3818</td>\n",
       "      <td>New rule designed to protect LGBTQ foster chil...</td>\n",
       "      <td>1</td>\n",
       "    </tr>\n",
       "  </tbody>\n",
       "</table>\n",
       "<p>710 rows × 6 columns</p>\n",
       "</div>"
      ],
      "text/plain": [
       "       neg    neu    pos  compound  \\\n",
       "0    0.000  1.000  0.000    0.0000   \n",
       "1    0.000  1.000  0.000    0.0000   \n",
       "2    0.000  1.000  0.000    0.0000   \n",
       "3    0.000  0.843  0.157    0.7778   \n",
       "4    0.150  0.850  0.000   -0.3182   \n",
       "..     ...    ...    ...       ...   \n",
       "705  0.000  1.000  0.000    0.0000   \n",
       "706  0.288  0.712  0.000   -0.7841   \n",
       "707  0.298  0.702  0.000   -0.5267   \n",
       "708  0.214  0.584  0.201   -0.0516   \n",
       "709  0.000  0.794  0.206    0.3818   \n",
       "\n",
       "                                              headline  score  \n",
       "0    Trump received millions of dollars from foreig...      0  \n",
       "1    Ahead of second E. Jean Carroll trial, Trump h...      0  \n",
       "2    Transcript: Biden’s first campaign speech of t...      0  \n",
       "3    $8.5 Trillion in Untaxed Assets: Data Shows Wh...      1  \n",
       "4    Joe Biden just delivered the speech Democrats ...     -1  \n",
       "..                                                 ...    ...  \n",
       "705  How the GOP’s rewriting of Jan. 6 paved the wa...      0  \n",
       "706  Why Are Republicans So Bad at Podcasting? Ted ...     -1  \n",
       "707  Massachusetts Democrats call for removing Cuba...     -1  \n",
       "708  Trump’s evangelical voters remain loyal as he ...      0  \n",
       "709  New rule designed to protect LGBTQ foster chil...      1  \n",
       "\n",
       "[710 rows x 6 columns]"
      ]
     },
     "execution_count": 11,
     "metadata": {},
     "output_type": "execute_result"
    }
   ],
   "source": [
    "df['score']=0\n",
    "df.loc[df['compound']<-0.2,'score']=-1\n",
    "df.loc[df['compound']>0.2,'score']=1\n",
    "df"
   ]
  },
  {
   "cell_type": "code",
   "execution_count": 12,
   "metadata": {
    "colab": {
     "base_uri": "https://localhost:8080/",
     "height": 424
    },
    "id": "hckjL99whSW9",
    "outputId": "0a0ce17a-7f98-402a-9e79-ab95e1f03f76"
   },
   "outputs": [
    {
     "data": {
      "text/html": [
       "<div>\n",
       "<style scoped>\n",
       "    .dataframe tbody tr th:only-of-type {\n",
       "        vertical-align: middle;\n",
       "    }\n",
       "\n",
       "    .dataframe tbody tr th {\n",
       "        vertical-align: top;\n",
       "    }\n",
       "\n",
       "    .dataframe thead th {\n",
       "        text-align: right;\n",
       "    }\n",
       "</style>\n",
       "<table border=\"1\" class=\"dataframe\">\n",
       "  <thead>\n",
       "    <tr style=\"text-align: right;\">\n",
       "      <th></th>\n",
       "      <th>headline</th>\n",
       "      <th>score</th>\n",
       "    </tr>\n",
       "  </thead>\n",
       "  <tbody>\n",
       "    <tr>\n",
       "      <th>0</th>\n",
       "      <td>Trump received millions of dollars from foreig...</td>\n",
       "      <td>0</td>\n",
       "    </tr>\n",
       "    <tr>\n",
       "      <th>1</th>\n",
       "      <td>Ahead of second E. Jean Carroll trial, Trump h...</td>\n",
       "      <td>0</td>\n",
       "    </tr>\n",
       "    <tr>\n",
       "      <th>2</th>\n",
       "      <td>Transcript: Biden’s first campaign speech of t...</td>\n",
       "      <td>0</td>\n",
       "    </tr>\n",
       "    <tr>\n",
       "      <th>3</th>\n",
       "      <td>$8.5 Trillion in Untaxed Assets: Data Shows Wh...</td>\n",
       "      <td>1</td>\n",
       "    </tr>\n",
       "    <tr>\n",
       "      <th>4</th>\n",
       "      <td>Joe Biden just delivered the speech Democrats ...</td>\n",
       "      <td>-1</td>\n",
       "    </tr>\n",
       "    <tr>\n",
       "      <th>...</th>\n",
       "      <td>...</td>\n",
       "      <td>...</td>\n",
       "    </tr>\n",
       "    <tr>\n",
       "      <th>705</th>\n",
       "      <td>How the GOP’s rewriting of Jan. 6 paved the wa...</td>\n",
       "      <td>0</td>\n",
       "    </tr>\n",
       "    <tr>\n",
       "      <th>706</th>\n",
       "      <td>Why Are Republicans So Bad at Podcasting? Ted ...</td>\n",
       "      <td>-1</td>\n",
       "    </tr>\n",
       "    <tr>\n",
       "      <th>707</th>\n",
       "      <td>Massachusetts Democrats call for removing Cuba...</td>\n",
       "      <td>-1</td>\n",
       "    </tr>\n",
       "    <tr>\n",
       "      <th>708</th>\n",
       "      <td>Trump’s evangelical voters remain loyal as he ...</td>\n",
       "      <td>0</td>\n",
       "    </tr>\n",
       "    <tr>\n",
       "      <th>709</th>\n",
       "      <td>New rule designed to protect LGBTQ foster chil...</td>\n",
       "      <td>1</td>\n",
       "    </tr>\n",
       "  </tbody>\n",
       "</table>\n",
       "<p>710 rows × 2 columns</p>\n",
       "</div>"
      ],
      "text/plain": [
       "                                              headline  score\n",
       "0    Trump received millions of dollars from foreig...      0\n",
       "1    Ahead of second E. Jean Carroll trial, Trump h...      0\n",
       "2    Transcript: Biden’s first campaign speech of t...      0\n",
       "3    $8.5 Trillion in Untaxed Assets: Data Shows Wh...      1\n",
       "4    Joe Biden just delivered the speech Democrats ...     -1\n",
       "..                                                 ...    ...\n",
       "705  How the GOP’s rewriting of Jan. 6 paved the wa...      0\n",
       "706  Why Are Republicans So Bad at Podcasting? Ted ...     -1\n",
       "707  Massachusetts Democrats call for removing Cuba...     -1\n",
       "708  Trump’s evangelical voters remain loyal as he ...      0\n",
       "709  New rule designed to protect LGBTQ foster chil...      1\n",
       "\n",
       "[710 rows x 2 columns]"
      ]
     },
     "execution_count": 12,
     "metadata": {},
     "output_type": "execute_result"
    }
   ],
   "source": [
    "DF=df[['headline','score']]\n",
    "DF"
   ]
  },
  {
   "cell_type": "code",
   "execution_count": 13,
   "metadata": {
    "id": "ematMqAshgJw"
   },
   "outputs": [],
   "source": [
    "DF.to_csv('headline_score.csv',encoding='utf-8',index=False)"
   ]
  },
  {
   "cell_type": "code",
   "execution_count": 37,
   "metadata": {
    "colab": {
     "base_uri": "https://localhost:8080/"
    },
    "id": "xj72vrEriQOs",
    "outputId": "c6bf9a5c-8b90-4df9-ac9b-58b7261f910b"
   },
   "outputs": [
    {
     "data": {
      "text/plain": [
       " 0    274\n",
       "-1    266\n",
       " 1    123\n",
       "Name: score, dtype: int64"
      ]
     },
     "execution_count": 37,
     "metadata": {},
     "output_type": "execute_result"
    }
   ],
   "source": [
    "DF.score.value_counts()"
   ]
  },
  {
   "cell_type": "code",
   "execution_count": 38,
   "metadata": {
    "colab": {
     "base_uri": "https://localhost:8080/"
    },
    "id": "h9hFFVVIi24u",
    "outputId": "4b5ee53b-76ea-4c01-bb9e-738e86f14d05"
   },
   "outputs": [
    {
     "data": {
      "text/plain": [
       " 0    41.327300\n",
       "-1    40.120664\n",
       " 1    18.552036\n",
       "Name: score, dtype: float64"
      ]
     },
     "execution_count": 38,
     "metadata": {},
     "output_type": "execute_result"
    }
   ],
   "source": [
    "DF.score.value_counts(normalize=True)*100"
   ]
  },
  {
   "cell_type": "code",
   "execution_count": 39,
   "metadata": {
    "colab": {
     "base_uri": "https://localhost:8080/"
    },
    "id": "CG6VA-4KjHxg",
    "outputId": "8b9e4580-b6fa-491f-b19a-008a6fbadaa7"
   },
   "outputs": [
    {
     "name": "stdout",
     "output_type": "stream",
     "text": [
      "Quelque positive headlines:\n",
      "['DeSantis, Haley pledge to pardon Trump if he’s convicted',\n",
      " \"NY's right-to-repair law is in effect. Advocates figure it'll save you about $330.\",\n",
      " 'Colorado GOP asks US Supreme Court to overturn ruling disqualifying Trump from 2024 ballot',\n",
      " 'Colorado Republicans appeal to supreme court after Trump disqualified from state ballot',\n",
      " 'Virginia Attorney General wins appeal in voter misinformation case against conservative group']\n",
      "____________________________________________________________________________________________________________\n",
      "Quelque neutre headlines:\n",
      "['Motion filed to remove Trump from Virginia ballots',\n",
      " 'Kinzinger says Christians who back Trump ‘don’t understand’ their religion',\n",
      " 'Raskin suggests Clarence Thomas should recuse himself from Trump 14th Amendment decision',\n",
      " 'U.S. must enforce immigration laws along the southern border, Rep. Gonzalez says',\n",
      " '‘Four years of getting even’: voters in former Trump stronghold mixed on possible second term']\n",
      "____________________________________________________________________________________________________________\n",
      "Quelque negative headlines:\n",
      "['Missouri Democrats expel from caucus lawmaker who promoted antisemitism, conspiracy theories',\n",
      " \"Lordy, there are more tapes: How Trump's Michigan arm-twisting may come back to haunt him 3 ways the new audio of Trump pressuring 2020 Michigan vote certifiers can hurt him in 2024\",\n",
      " 'Maine secretary of state blocks Trump from 2024 primary ballot',\n",
      " 'California new laws for 2024: Workers get more paid sick days',\n",
      " 'Nikki Haley Confuses Basketballer Caitlin Clark With CNN Anchor']\n"
     ]
    }
   ],
   "source": [
    "print(\"Quelque positive headlines:\")\n",
    "pprint(list(DF[DF['score']==1].headline)[:5],width=200)\n",
    "\n",
    "print(\"____________________________________________________________________________________________________________\")\n",
    "\n",
    "print(\"Quelque neutre headlines:\")\n",
    "pprint(list(DF[DF['score']==0].headline)[:5],width=200)\n",
    "\n",
    "print(\"____________________________________________________________________________________________________________\")\n",
    "\n",
    "print(\"Quelque negative headlines:\")\n",
    "pprint(list(DF[DF['score']==-1].headline)[:5],width=200)"
   ]
  },
  {
   "cell_type": "code",
   "execution_count": 41,
   "metadata": {
    "colab": {
     "base_uri": "https://localhost:8080/",
     "height": 699
    },
    "id": "-aAn65FDj68v",
    "outputId": "b13aba27-97df-4881-c373-aeb3fecc3b4f"
   },
   "outputs": [
    {
     "data": {
      "image/png": "[encoded data removed]",
      "text/plain": [
       "<Figure size 800x800 with 1 Axes>"
      ]
     },
     "metadata": {},
     "output_type": "display_data"
    }
   ],
   "source": [
    "fig, ax = plt.subplots(figsize=(8, 8))\n",
    "counts=DF.score.value_counts(normalize=True)*100\n",
    "sns.barplot(x=counts.index,y=counts,ax=ax)\n",
    "ax.set_xticklabels(['Negative','Neutre','Positive'])\n",
    "ax.set_ylabel('Pourcentage')\n",
    "ax.set_title('Répartition des scores')\n",
    "plt.show()"
   ]
  }
 ],
 "metadata": {
  "colab": {
   "provenance": []
  },
  "kernelspec": {
   "display_name": "Python 3 (ipykernel)",
   "language": "python",
   "name": "python3"
  },
  "language_info": {
   "codemirror_mode": {
    "name": "ipython",
    "version": 3
   },
   "file_extension": ".py",
   "mimetype": "text/x-python",
   "name": "python",
   "nbconvert_exporter": "python",
   "pygments_lexer": "ipython3",
   "version": "3.9.12"
  }
 },
 "nbformat": 4,
 "nbformat_minor": 1
}
