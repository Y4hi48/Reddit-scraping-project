{
 "cells": [
  {
   "cell_type": "code",
   "execution_count": 1,
   "metadata": {
    "colab": {
     "base_uri": "https://localhost:8080/"
    },
    "id": "fMdT_XXhZBoE",
    "outputId": "12556407-ae24-40fb-e63e-1073ce43407b"
   },
   "outputs": [
    {
     "name": "stderr",
     "output_type": "stream",
     "text": [
      "[nltk_data] Downloading package vader_lexicon to\n",
      "[nltk_data]     C:\\Users\\YAhia\\AppData\\Roaming\\nltk_data...\n",
      "[nltk_data]   Package vader_lexicon is already up-to-date!\n"
     ]
    }
   ],
   "source": [
    "from pprint import pprint\n",
    "import pandas as pd\n",
    "import matplotlib.pyplot as plt\n",
    "import seaborn as sns\n",
    "import praw\n",
    "import nltk\n",
    "from nltk.sentiment.vader import SentimentIntensityAnalyzer as SIA\n",
    "from datetime import datetime"
   ]
  },
  {
   "cell_type": "code",
   "execution_count": 2,
   "metadata": {
    "id": "_ZRZMCKaZZWf"
   },
   "outputs": [],
   "source": [
    "reddit=praw.Reddit(\n",
    "    client_id=\"\",\n",
    "    client_secret=\"\",\n",
    "    user_agent=\"Scraper\"\n",
    ")\n",
    "\n"
   ]
  },
  {
   "cell_type": "code",
   "execution_count": 3,
   "metadata": {
    "colab": {
     "base_uri": "https://localhost:8080/",
     "height": 1000
    },
    "id": "6pzAFc6abeWl",
    "outputId": "821b5fc3-391c-4dc9-d8e3-d5e5edd70ff3"
   },
   "outputs": [
    {
     "data": {
      "text/html": [
       "<div>\n",
       "<style scoped>\n",
       "    .dataframe tbody tr th:only-of-type {\n",
       "        vertical-align: middle;\n",
       "    }\n",
       "\n",
       "    .dataframe tbody tr th {\n",
       "        vertical-align: top;\n",
       "    }\n",
       "\n",
       "    .dataframe thead th {\n",
       "        text-align: right;\n",
       "    }\n",
       "</style>\n",
       "<table border=\"1\" class=\"dataframe\">\n",
       "  <thead>\n",
       "    <tr style=\"text-align: right;\">\n",
       "      <th></th>\n",
       "      <th>ID</th>\n",
       "      <th>Titre</th>\n",
       "      <th>Auteur</th>\n",
       "      <th>Temps de création</th>\n",
       "      <th>Up votes</th>\n",
       "      <th>Poucentage des up votes</th>\n",
       "      <th>Nombre de commentaire</th>\n",
       "    </tr>\n",
       "  </thead>\n",
       "  <tbody>\n",
       "    <tr>\n",
       "      <th>0</th>\n",
       "      <td>18ext8v</td>\n",
       "      <td>🇵🇸 📢 Megathread and Discord Alert! 📢🇵🇸 - Dec 10th</td>\n",
       "      <td>sabbah</td>\n",
       "      <td>2023-12-10</td>\n",
       "      <td>68</td>\n",
       "      <td>0.95</td>\n",
       "      <td>83</td>\n",
       "    </tr>\n",
       "    <tr>\n",
       "      <th>1</th>\n",
       "      <td>194pudv</td>\n",
       "      <td>South Africa presents its case against Israel ...</td>\n",
       "      <td>sabbah</td>\n",
       "      <td>2024-01-12</td>\n",
       "      <td>173</td>\n",
       "      <td>0.94</td>\n",
       "      <td>23</td>\n",
       "    </tr>\n",
       "    <tr>\n",
       "      <th>2</th>\n",
       "      <td>198xy1r</td>\n",
       "      <td>Palestinian Christian Humiliats Zionist \"Journ...</td>\n",
       "      <td>No_Sun_8930</td>\n",
       "      <td>2024-01-17</td>\n",
       "      <td>959</td>\n",
       "      <td>0.94</td>\n",
       "      <td>34</td>\n",
       "    </tr>\n",
       "    <tr>\n",
       "      <th>3</th>\n",
       "      <td>198s716</td>\n",
       "      <td>Gaza’s children</td>\n",
       "      <td>polien</td>\n",
       "      <td>2024-01-17</td>\n",
       "      <td>701</td>\n",
       "      <td>0.98</td>\n",
       "      <td>21</td>\n",
       "    </tr>\n",
       "    <tr>\n",
       "      <th>4</th>\n",
       "      <td>198vqey</td>\n",
       "      <td>American logic</td>\n",
       "      <td>huth_13</td>\n",
       "      <td>2024-01-17</td>\n",
       "      <td>321</td>\n",
       "      <td>0.98</td>\n",
       "      <td>8</td>\n",
       "    </tr>\n",
       "    <tr>\n",
       "      <th>...</th>\n",
       "      <td>...</td>\n",
       "      <td>...</td>\n",
       "      <td>...</td>\n",
       "      <td>...</td>\n",
       "      <td>...</td>\n",
       "      <td>...</td>\n",
       "      <td>...</td>\n",
       "    </tr>\n",
       "    <tr>\n",
       "      <th>662</th>\n",
       "      <td>1912hum</td>\n",
       "      <td>BBC News is a joke</td>\n",
       "      <td>OutsideMeal</td>\n",
       "      <td>2024-01-07</td>\n",
       "      <td>481</td>\n",
       "      <td>0.98</td>\n",
       "      <td>18</td>\n",
       "    </tr>\n",
       "    <tr>\n",
       "      <th>663</th>\n",
       "      <td>191krho</td>\n",
       "      <td>A rational analysis of why Arab states don't s...</td>\n",
       "      <td>Milchstrasse94</td>\n",
       "      <td>2024-01-08</td>\n",
       "      <td>23</td>\n",
       "      <td>0.83</td>\n",
       "      <td>25</td>\n",
       "    </tr>\n",
       "    <tr>\n",
       "      <th>664</th>\n",
       "      <td>190wbey</td>\n",
       "      <td>I couldn't find anything study linking crows w...</td>\n",
       "      <td>Elon-Zusk</td>\n",
       "      <td>2024-01-07</td>\n",
       "      <td>931</td>\n",
       "      <td>0.97</td>\n",
       "      <td>146</td>\n",
       "    </tr>\n",
       "    <tr>\n",
       "      <th>665</th>\n",
       "      <td>191mex8</td>\n",
       "      <td>Who are Yemen's 'Houthis'? Why are they attack...</td>\n",
       "      <td>EnterTamed</td>\n",
       "      <td>2024-01-08</td>\n",
       "      <td>16</td>\n",
       "      <td>0.83</td>\n",
       "      <td>1</td>\n",
       "    </tr>\n",
       "    <tr>\n",
       "      <th>666</th>\n",
       "      <td>18novto</td>\n",
       "      <td>BDS Belfast were out last night again removing...</td>\n",
       "      <td>RedMenace-1798</td>\n",
       "      <td>2023-12-21</td>\n",
       "      <td>1102</td>\n",
       "      <td>0.94</td>\n",
       "      <td>45</td>\n",
       "    </tr>\n",
       "  </tbody>\n",
       "</table>\n",
       "<p>667 rows × 7 columns</p>\n",
       "</div>"
      ],
      "text/plain": [
       "          ID                                              Titre  \\\n",
       "0    18ext8v  🇵🇸 📢 Megathread and Discord Alert! 📢🇵🇸 - Dec 10th   \n",
       "1    194pudv  South Africa presents its case against Israel ...   \n",
       "2    198xy1r  Palestinian Christian Humiliats Zionist \"Journ...   \n",
       "3    198s716                                    Gaza’s children   \n",
       "4    198vqey                                     American logic   \n",
       "..       ...                                                ...   \n",
       "662  1912hum                                 BBC News is a joke   \n",
       "663  191krho  A rational analysis of why Arab states don't s...   \n",
       "664  190wbey  I couldn't find anything study linking crows w...   \n",
       "665  191mex8  Who are Yemen's 'Houthis'? Why are they attack...   \n",
       "666  18novto  BDS Belfast were out last night again removing...   \n",
       "\n",
       "             Auteur Temps de création  Up votes  Poucentage des up votes  \\\n",
       "0            sabbah        2023-12-10        68                     0.95   \n",
       "1            sabbah        2024-01-12       173                     0.94   \n",
       "2       No_Sun_8930        2024-01-17       959                     0.94   \n",
       "3            polien        2024-01-17       701                     0.98   \n",
       "4           huth_13        2024-01-17       321                     0.98   \n",
       "..              ...               ...       ...                      ...   \n",
       "662     OutsideMeal        2024-01-07       481                     0.98   \n",
       "663  Milchstrasse94        2024-01-08        23                     0.83   \n",
       "664       Elon-Zusk        2024-01-07       931                     0.97   \n",
       "665      EnterTamed        2024-01-08        16                     0.83   \n",
       "666  RedMenace-1798        2023-12-21      1102                     0.94   \n",
       "\n",
       "     Nombre de commentaire  \n",
       "0                       83  \n",
       "1                       23  \n",
       "2                       34  \n",
       "3                       21  \n",
       "4                        8  \n",
       "..                     ...  \n",
       "662                     18  \n",
       "663                     25  \n",
       "664                    146  \n",
       "665                      1  \n",
       "666                     45  \n",
       "\n",
       "[667 rows x 7 columns]"
      ]
     },
     "execution_count": 3,
     "metadata": {},
     "output_type": "execute_result"
    }
   ],
   "source": [
    "ids,headlines,authors,created_utcs,upvotes,upvotesPercentage,urls,numcomments=[],[],[],[],[],[],[],[]\n",
    "\n",
    "for subred in reddit.subreddit('Palestine').hot(limit=None):\n",
    "  ids.append(subred.id)\n",
    "  headlines.append(subred.title)\n",
    "  authors.append(subred.author)\n",
    "  times = subred.created_utc\n",
    "  datetimes = datetime.utcfromtimestamp(times)\n",
    "  created_utcs.append(datetimes.strftime('%Y-%m-%d'))\n",
    "  upvotes.append(subred.score)\n",
    "  upvotesPercentage.append(subred.upvote_ratio)\n",
    "  urls.append(subred.url)\n",
    "  numcomments.append(subred.num_comments)\n",
    "data={\n",
    "    'ID':ids,\n",
    "    'Titre':headlines,\n",
    "    'Auteur':authors,\n",
    "    'Temps de création':created_utcs,\n",
    "    'Up votes':upvotes,\n",
    "    'Poucentage des up votes':upvotesPercentage,\n",
    "    'Nombre de commentaire':numcomments\n",
    "}\n",
    "df=pd.DataFrame(data)\n",
    "df"
   ]
  },
  {
   "cell_type": "code",
   "execution_count": 4,
   "metadata": {
    "id": "46zCrTnBdIvN"
   },
   "outputs": [],
   "source": [
    "df.to_csv('Palestine.csv',encoding='utf-8')"
   ]
  },
  {
   "cell_type": "code",
   "execution_count": 5,
   "metadata": {
    "colab": {
     "base_uri": "https://localhost:8080/"
    },
    "id": "OdJFYNnQdt6t",
    "outputId": "a2f32dbb-158c-4dc1-dd91-515afe5a90c3"
   },
   "outputs": [
    {
     "name": "stderr",
     "output_type": "stream",
     "text": [
      "[nltk_data] Downloading package vader_lexicon to\n",
      "[nltk_data]     C:\\Users\\YAhia\\AppData\\Roaming\\nltk_data...\n",
      "[nltk_data]   Package vader_lexicon is already up-to-date!\n"
     ]
    },
    {
     "data": {
      "text/plain": [
       "True"
      ]
     },
     "execution_count": 5,
     "metadata": {},
     "output_type": "execute_result"
    }
   ],
   "source": [
    "nltk.download('vader_lexicon')"
   ]
  },
  {
   "cell_type": "code",
   "execution_count": 8,
   "metadata": {
    "colab": {
     "base_uri": "https://localhost:8080/",
     "height": 424
    },
    "id": "Y8r2M2_TfstO",
    "outputId": "7623cfce-830f-4b29-b58f-4eb0f74d3437"
   },
   "outputs": [
    {
     "data": {
      "text/html": [
       "<div>\n",
       "<style scoped>\n",
       "    .dataframe tbody tr th:only-of-type {\n",
       "        vertical-align: middle;\n",
       "    }\n",
       "\n",
       "    .dataframe tbody tr th {\n",
       "        vertical-align: top;\n",
       "    }\n",
       "\n",
       "    .dataframe thead th {\n",
       "        text-align: right;\n",
       "    }\n",
       "</style>\n",
       "<table border=\"1\" class=\"dataframe\">\n",
       "  <thead>\n",
       "    <tr style=\"text-align: right;\">\n",
       "      <th></th>\n",
       "      <th>neg</th>\n",
       "      <th>neu</th>\n",
       "      <th>pos</th>\n",
       "      <th>compound</th>\n",
       "      <th>Date</th>\n",
       "      <th>Titre</th>\n",
       "    </tr>\n",
       "  </thead>\n",
       "  <tbody>\n",
       "    <tr>\n",
       "      <th>0</th>\n",
       "      <td>0.267</td>\n",
       "      <td>0.536</td>\n",
       "      <td>0.197</td>\n",
       "      <td>-0.2003</td>\n",
       "      <td>2024-01-12</td>\n",
       "      <td>South Africa presents its case against Israel ...</td>\n",
       "    </tr>\n",
       "    <tr>\n",
       "      <th>1</th>\n",
       "      <td>0.000</td>\n",
       "      <td>1.000</td>\n",
       "      <td>0.000</td>\n",
       "      <td>0.0000</td>\n",
       "      <td>2024-01-17</td>\n",
       "      <td>Palestinian Christian Humiliats Zionist \"Journ...</td>\n",
       "    </tr>\n",
       "    <tr>\n",
       "      <th>2</th>\n",
       "      <td>0.000</td>\n",
       "      <td>1.000</td>\n",
       "      <td>0.000</td>\n",
       "      <td>0.0000</td>\n",
       "      <td>2024-01-17</td>\n",
       "      <td>Gaza’s children</td>\n",
       "    </tr>\n",
       "    <tr>\n",
       "      <th>3</th>\n",
       "      <td>0.000</td>\n",
       "      <td>1.000</td>\n",
       "      <td>0.000</td>\n",
       "      <td>0.0000</td>\n",
       "      <td>2024-01-17</td>\n",
       "      <td>American logic</td>\n",
       "    </tr>\n",
       "    <tr>\n",
       "      <th>4</th>\n",
       "      <td>0.000</td>\n",
       "      <td>1.000</td>\n",
       "      <td>0.000</td>\n",
       "      <td>0.0000</td>\n",
       "      <td>2024-01-17</td>\n",
       "      <td>A deaf Palestinian expresses his joy after get...</td>\n",
       "    </tr>\n",
       "    <tr>\n",
       "      <th>...</th>\n",
       "      <td>...</td>\n",
       "      <td>...</td>\n",
       "      <td>...</td>\n",
       "      <td>...</td>\n",
       "      <td>...</td>\n",
       "      <td>...</td>\n",
       "    </tr>\n",
       "    <tr>\n",
       "      <th>662</th>\n",
       "      <td>0.000</td>\n",
       "      <td>0.577</td>\n",
       "      <td>0.423</td>\n",
       "      <td>0.2960</td>\n",
       "      <td>2024-01-08</td>\n",
       "      <td>A rational analysis of why Arab states don't s...</td>\n",
       "    </tr>\n",
       "    <tr>\n",
       "      <th>663</th>\n",
       "      <td>0.000</td>\n",
       "      <td>1.000</td>\n",
       "      <td>0.000</td>\n",
       "      <td>0.0000</td>\n",
       "      <td>2024-01-07</td>\n",
       "      <td>I couldn't find anything study linking crows w...</td>\n",
       "    </tr>\n",
       "    <tr>\n",
       "      <th>664</th>\n",
       "      <td>0.000</td>\n",
       "      <td>0.673</td>\n",
       "      <td>0.327</td>\n",
       "      <td>0.7783</td>\n",
       "      <td>2024-01-08</td>\n",
       "      <td>Who are Yemen's 'Houthis'? Why are they attack...</td>\n",
       "    </tr>\n",
       "    <tr>\n",
       "      <th>665</th>\n",
       "      <td>0.219</td>\n",
       "      <td>0.781</td>\n",
       "      <td>0.000</td>\n",
       "      <td>-0.5204</td>\n",
       "      <td>2023-12-21</td>\n",
       "      <td>BDS Belfast were out last night again removing...</td>\n",
       "    </tr>\n",
       "    <tr>\n",
       "      <th>666</th>\n",
       "      <td>0.000</td>\n",
       "      <td>1.000</td>\n",
       "      <td>0.000</td>\n",
       "      <td>0.0000</td>\n",
       "      <td>NaN</td>\n",
       "      <td>NaN</td>\n",
       "    </tr>\n",
       "  </tbody>\n",
       "</table>\n",
       "<p>667 rows × 6 columns</p>\n",
       "</div>"
      ],
      "text/plain": [
       "       neg    neu    pos  compound        Date  \\\n",
       "0    0.267  0.536  0.197   -0.2003  2024-01-12   \n",
       "1    0.000  1.000  0.000    0.0000  2024-01-17   \n",
       "2    0.000  1.000  0.000    0.0000  2024-01-17   \n",
       "3    0.000  1.000  0.000    0.0000  2024-01-17   \n",
       "4    0.000  1.000  0.000    0.0000  2024-01-17   \n",
       "..     ...    ...    ...       ...         ...   \n",
       "662  0.000  0.577  0.423    0.2960  2024-01-08   \n",
       "663  0.000  1.000  0.000    0.0000  2024-01-07   \n",
       "664  0.000  0.673  0.327    0.7783  2024-01-08   \n",
       "665  0.219  0.781  0.000   -0.5204  2023-12-21   \n",
       "666  0.000  1.000  0.000    0.0000         NaN   \n",
       "\n",
       "                                                 Titre  \n",
       "0    South Africa presents its case against Israel ...  \n",
       "1    Palestinian Christian Humiliats Zionist \"Journ...  \n",
       "2                                      Gaza’s children  \n",
       "3                                       American logic  \n",
       "4    A deaf Palestinian expresses his joy after get...  \n",
       "..                                                 ...  \n",
       "662  A rational analysis of why Arab states don't s...  \n",
       "663  I couldn't find anything study linking crows w...  \n",
       "664  Who are Yemen's 'Houthis'? Why are they attack...  \n",
       "665  BDS Belfast were out last night again removing...  \n",
       "666                                                NaN  \n",
       "\n",
       "[667 rows x 6 columns]"
      ]
     },
     "execution_count": 8,
     "metadata": {},
     "output_type": "execute_result"
    }
   ],
   "source": [
    "pol_score = SIA().polarity_scores(df['Titre'][0])\n",
    "sia = SIA()\n",
    "results=[]\n",
    "for line,date in zip(df['Titre'],df['Temps de création']):\n",
    "  pol_score['Date'] = date\n",
    "  pol_score['Titre'] = line\n",
    "  pol_score=sia.polarity_scores(line)\n",
    "  results.append(pol_score)\n",
    "df_score=pd.DataFrame.from_records(results)\n",
    "df_score\n"
   ]
  },
  {
   "cell_type": "code",
   "execution_count": 9,
   "metadata": {
    "colab": {
     "base_uri": "https://localhost:8080/",
     "height": 424
    },
    "id": "jiJ2HWrPgpIp",
    "outputId": "4e6dd7f7-e378-4bf5-d25a-6d64995adcf9"
   },
   "outputs": [
    {
     "data": {
      "text/html": [
       "<div>\n",
       "<style scoped>\n",
       "    .dataframe tbody tr th:only-of-type {\n",
       "        vertical-align: middle;\n",
       "    }\n",
       "\n",
       "    .dataframe tbody tr th {\n",
       "        vertical-align: top;\n",
       "    }\n",
       "\n",
       "    .dataframe thead th {\n",
       "        text-align: right;\n",
       "    }\n",
       "</style>\n",
       "<table border=\"1\" class=\"dataframe\">\n",
       "  <thead>\n",
       "    <tr style=\"text-align: right;\">\n",
       "      <th></th>\n",
       "      <th>neg</th>\n",
       "      <th>neu</th>\n",
       "      <th>pos</th>\n",
       "      <th>compound</th>\n",
       "      <th>Date</th>\n",
       "      <th>Titre</th>\n",
       "      <th>Score</th>\n",
       "    </tr>\n",
       "  </thead>\n",
       "  <tbody>\n",
       "    <tr>\n",
       "      <th>0</th>\n",
       "      <td>0.267</td>\n",
       "      <td>0.536</td>\n",
       "      <td>0.197</td>\n",
       "      <td>-0.2003</td>\n",
       "      <td>2024-01-12</td>\n",
       "      <td>South Africa presents its case against Israel ...</td>\n",
       "      <td>-1</td>\n",
       "    </tr>\n",
       "    <tr>\n",
       "      <th>1</th>\n",
       "      <td>0.000</td>\n",
       "      <td>1.000</td>\n",
       "      <td>0.000</td>\n",
       "      <td>0.0000</td>\n",
       "      <td>2024-01-17</td>\n",
       "      <td>Palestinian Christian Humiliats Zionist \"Journ...</td>\n",
       "      <td>0</td>\n",
       "    </tr>\n",
       "    <tr>\n",
       "      <th>2</th>\n",
       "      <td>0.000</td>\n",
       "      <td>1.000</td>\n",
       "      <td>0.000</td>\n",
       "      <td>0.0000</td>\n",
       "      <td>2024-01-17</td>\n",
       "      <td>Gaza’s children</td>\n",
       "      <td>0</td>\n",
       "    </tr>\n",
       "    <tr>\n",
       "      <th>3</th>\n",
       "      <td>0.000</td>\n",
       "      <td>1.000</td>\n",
       "      <td>0.000</td>\n",
       "      <td>0.0000</td>\n",
       "      <td>2024-01-17</td>\n",
       "      <td>American logic</td>\n",
       "      <td>0</td>\n",
       "    </tr>\n",
       "    <tr>\n",
       "      <th>4</th>\n",
       "      <td>0.000</td>\n",
       "      <td>1.000</td>\n",
       "      <td>0.000</td>\n",
       "      <td>0.0000</td>\n",
       "      <td>2024-01-17</td>\n",
       "      <td>A deaf Palestinian expresses his joy after get...</td>\n",
       "      <td>0</td>\n",
       "    </tr>\n",
       "    <tr>\n",
       "      <th>...</th>\n",
       "      <td>...</td>\n",
       "      <td>...</td>\n",
       "      <td>...</td>\n",
       "      <td>...</td>\n",
       "      <td>...</td>\n",
       "      <td>...</td>\n",
       "      <td>...</td>\n",
       "    </tr>\n",
       "    <tr>\n",
       "      <th>662</th>\n",
       "      <td>0.000</td>\n",
       "      <td>0.577</td>\n",
       "      <td>0.423</td>\n",
       "      <td>0.2960</td>\n",
       "      <td>2024-01-08</td>\n",
       "      <td>A rational analysis of why Arab states don't s...</td>\n",
       "      <td>1</td>\n",
       "    </tr>\n",
       "    <tr>\n",
       "      <th>663</th>\n",
       "      <td>0.000</td>\n",
       "      <td>1.000</td>\n",
       "      <td>0.000</td>\n",
       "      <td>0.0000</td>\n",
       "      <td>2024-01-07</td>\n",
       "      <td>I couldn't find anything study linking crows w...</td>\n",
       "      <td>0</td>\n",
       "    </tr>\n",
       "    <tr>\n",
       "      <th>664</th>\n",
       "      <td>0.000</td>\n",
       "      <td>0.673</td>\n",
       "      <td>0.327</td>\n",
       "      <td>0.7783</td>\n",
       "      <td>2024-01-08</td>\n",
       "      <td>Who are Yemen's 'Houthis'? Why are they attack...</td>\n",
       "      <td>1</td>\n",
       "    </tr>\n",
       "    <tr>\n",
       "      <th>665</th>\n",
       "      <td>0.219</td>\n",
       "      <td>0.781</td>\n",
       "      <td>0.000</td>\n",
       "      <td>-0.5204</td>\n",
       "      <td>2023-12-21</td>\n",
       "      <td>BDS Belfast were out last night again removing...</td>\n",
       "      <td>-1</td>\n",
       "    </tr>\n",
       "    <tr>\n",
       "      <th>666</th>\n",
       "      <td>0.000</td>\n",
       "      <td>1.000</td>\n",
       "      <td>0.000</td>\n",
       "      <td>0.0000</td>\n",
       "      <td>NaN</td>\n",
       "      <td>NaN</td>\n",
       "      <td>0</td>\n",
       "    </tr>\n",
       "  </tbody>\n",
       "</table>\n",
       "<p>667 rows × 7 columns</p>\n",
       "</div>"
      ],
      "text/plain": [
       "       neg    neu    pos  compound        Date  \\\n",
       "0    0.267  0.536  0.197   -0.2003  2024-01-12   \n",
       "1    0.000  1.000  0.000    0.0000  2024-01-17   \n",
       "2    0.000  1.000  0.000    0.0000  2024-01-17   \n",
       "3    0.000  1.000  0.000    0.0000  2024-01-17   \n",
       "4    0.000  1.000  0.000    0.0000  2024-01-17   \n",
       "..     ...    ...    ...       ...         ...   \n",
       "662  0.000  0.577  0.423    0.2960  2024-01-08   \n",
       "663  0.000  1.000  0.000    0.0000  2024-01-07   \n",
       "664  0.000  0.673  0.327    0.7783  2024-01-08   \n",
       "665  0.219  0.781  0.000   -0.5204  2023-12-21   \n",
       "666  0.000  1.000  0.000    0.0000         NaN   \n",
       "\n",
       "                                                 Titre  Score  \n",
       "0    South Africa presents its case against Israel ...     -1  \n",
       "1    Palestinian Christian Humiliats Zionist \"Journ...      0  \n",
       "2                                      Gaza’s children      0  \n",
       "3                                       American logic      0  \n",
       "4    A deaf Palestinian expresses his joy after get...      0  \n",
       "..                                                 ...    ...  \n",
       "662  A rational analysis of why Arab states don't s...      1  \n",
       "663  I couldn't find anything study linking crows w...      0  \n",
       "664  Who are Yemen's 'Houthis'? Why are they attack...      1  \n",
       "665  BDS Belfast were out last night again removing...     -1  \n",
       "666                                                NaN      0  \n",
       "\n",
       "[667 rows x 7 columns]"
      ]
     },
     "execution_count": 9,
     "metadata": {},
     "output_type": "execute_result"
    }
   ],
   "source": [
    "df_score['Score']=0\n",
    "df_score.loc[df_score['compound']<-0.2,'Score']=-1\n",
    "df_score.loc[df_score['compound']>0.2,'Score']=1\n",
    "df_score"
   ]
  },
  {
   "cell_type": "code",
   "execution_count": 10,
   "metadata": {
    "colab": {
     "base_uri": "https://localhost:8080/",
     "height": 424
    },
    "id": "hckjL99whSW9",
    "outputId": "8f2f2dad-3eb9-4fe3-9b50-c9e7553ae5d1"
   },
   "outputs": [
    {
     "data": {
      "text/html": [
       "<div>\n",
       "<style scoped>\n",
       "    .dataframe tbody tr th:only-of-type {\n",
       "        vertical-align: middle;\n",
       "    }\n",
       "\n",
       "    .dataframe tbody tr th {\n",
       "        vertical-align: top;\n",
       "    }\n",
       "\n",
       "    .dataframe thead th {\n",
       "        text-align: right;\n",
       "    }\n",
       "</style>\n",
       "<table border=\"1\" class=\"dataframe\">\n",
       "  <thead>\n",
       "    <tr style=\"text-align: right;\">\n",
       "      <th></th>\n",
       "      <th>Date</th>\n",
       "      <th>Titre</th>\n",
       "      <th>Score</th>\n",
       "    </tr>\n",
       "  </thead>\n",
       "  <tbody>\n",
       "    <tr>\n",
       "      <th>0</th>\n",
       "      <td>2024-01-12</td>\n",
       "      <td>South Africa presents its case against Israel ...</td>\n",
       "      <td>-1</td>\n",
       "    </tr>\n",
       "    <tr>\n",
       "      <th>1</th>\n",
       "      <td>2024-01-17</td>\n",
       "      <td>Palestinian Christian Humiliats Zionist \"Journ...</td>\n",
       "      <td>0</td>\n",
       "    </tr>\n",
       "    <tr>\n",
       "      <th>2</th>\n",
       "      <td>2024-01-17</td>\n",
       "      <td>Gaza’s children</td>\n",
       "      <td>0</td>\n",
       "    </tr>\n",
       "    <tr>\n",
       "      <th>3</th>\n",
       "      <td>2024-01-17</td>\n",
       "      <td>American logic</td>\n",
       "      <td>0</td>\n",
       "    </tr>\n",
       "    <tr>\n",
       "      <th>4</th>\n",
       "      <td>2024-01-17</td>\n",
       "      <td>A deaf Palestinian expresses his joy after get...</td>\n",
       "      <td>0</td>\n",
       "    </tr>\n",
       "    <tr>\n",
       "      <th>...</th>\n",
       "      <td>...</td>\n",
       "      <td>...</td>\n",
       "      <td>...</td>\n",
       "    </tr>\n",
       "    <tr>\n",
       "      <th>662</th>\n",
       "      <td>2024-01-08</td>\n",
       "      <td>A rational analysis of why Arab states don't s...</td>\n",
       "      <td>1</td>\n",
       "    </tr>\n",
       "    <tr>\n",
       "      <th>663</th>\n",
       "      <td>2024-01-07</td>\n",
       "      <td>I couldn't find anything study linking crows w...</td>\n",
       "      <td>0</td>\n",
       "    </tr>\n",
       "    <tr>\n",
       "      <th>664</th>\n",
       "      <td>2024-01-08</td>\n",
       "      <td>Who are Yemen's 'Houthis'? Why are they attack...</td>\n",
       "      <td>1</td>\n",
       "    </tr>\n",
       "    <tr>\n",
       "      <th>665</th>\n",
       "      <td>2023-12-21</td>\n",
       "      <td>BDS Belfast were out last night again removing...</td>\n",
       "      <td>-1</td>\n",
       "    </tr>\n",
       "    <tr>\n",
       "      <th>666</th>\n",
       "      <td>NaN</td>\n",
       "      <td>NaN</td>\n",
       "      <td>0</td>\n",
       "    </tr>\n",
       "  </tbody>\n",
       "</table>\n",
       "<p>667 rows × 3 columns</p>\n",
       "</div>"
      ],
      "text/plain": [
       "           Date                                              Titre  Score\n",
       "0    2024-01-12  South Africa presents its case against Israel ...     -1\n",
       "1    2024-01-17  Palestinian Christian Humiliats Zionist \"Journ...      0\n",
       "2    2024-01-17                                    Gaza’s children      0\n",
       "3    2024-01-17                                     American logic      0\n",
       "4    2024-01-17  A deaf Palestinian expresses his joy after get...      0\n",
       "..          ...                                                ...    ...\n",
       "662  2024-01-08  A rational analysis of why Arab states don't s...      1\n",
       "663  2024-01-07  I couldn't find anything study linking crows w...      0\n",
       "664  2024-01-08  Who are Yemen's 'Houthis'? Why are they attack...      1\n",
       "665  2023-12-21  BDS Belfast were out last night again removing...     -1\n",
       "666         NaN                                                NaN      0\n",
       "\n",
       "[667 rows x 3 columns]"
      ]
     },
     "execution_count": 10,
     "metadata": {},
     "output_type": "execute_result"
    }
   ],
   "source": [
    "df_score=df_score[['Date','Titre','Score']]\n",
    "df_score"
   ]
  },
  {
   "cell_type": "code",
   "execution_count": 11,
   "metadata": {
    "id": "ematMqAshgJw"
   },
   "outputs": [],
   "source": [
    "df_score.to_csv('headlines_score.csv',encoding='utf-8',index=False)"
   ]
  },
  {
   "cell_type": "code",
   "execution_count": 12,
   "metadata": {
    "colab": {
     "base_uri": "https://localhost:8080/"
    },
    "id": "xj72vrEriQOs",
    "outputId": "980f3068-f954-461e-f441-302b121ac2c0"
   },
   "outputs": [
    {
     "data": {
      "text/plain": [
       " 0    288\n",
       "-1    252\n",
       " 1    127\n",
       "Name: Score, dtype: int64"
      ]
     },
     "execution_count": 12,
     "metadata": {},
     "output_type": "execute_result"
    }
   ],
   "source": [
    "df_score.Score.value_counts()"
   ]
  },
  {
   "cell_type": "code",
   "execution_count": 13,
   "metadata": {
    "colab": {
     "base_uri": "https://localhost:8080/"
    },
    "id": "h9hFFVVIi24u",
    "outputId": "158dce72-5949-4bdc-eb92-ec2675a21b74"
   },
   "outputs": [
    {
     "data": {
      "text/plain": [
       " 0    43.178411\n",
       "-1    37.781109\n",
       " 1    19.040480\n",
       "Name: Score, dtype: float64"
      ]
     },
     "execution_count": 13,
     "metadata": {},
     "output_type": "execute_result"
    }
   ],
   "source": [
    "df_score.Score.value_counts(normalize=True)*100"
   ]
  },
  {
   "cell_type": "code",
   "execution_count": 14,
   "metadata": {
    "colab": {
     "base_uri": "https://localhost:8080/"
    },
    "id": "CG6VA-4KjHxg",
    "outputId": "f53dc428-c003-434f-b120-8a9482ddea16"
   },
   "outputs": [
    {
     "name": "stdout",
     "output_type": "stream",
     "text": [
      "Quelque positive headlines:\n",
      "['Israeli government spokesman Eylon Levy admits that IOF targeted journalists and reporters because they were khamas.',\n",
      " 'An update from Bisan',\n",
      " 'Israel destroys more than 3,000 trees in West Bank.',\n",
      " 'They encourage genocide while simultaneously claiming there is no genocide occuring',\n",
      " '🇪🇬🇵🇸 - Protestors in Cairo, Egypt chanted,: \"They did it, Mandela\\'s grandchildren, while we are in fear, shame, and humiliation,\" expressing solidarity with South Africa\\'s case against the '\n",
      " 'Israeli war on Gaza.']\n",
      "____________________________________________________________________________________________________________\n",
      "Quelque neutre headlines:\n",
      "['Palestinian Christian Humiliats Zionist \"Journalist\"',\n",
      " 'Gaza’s children',\n",
      " 'American logic',\n",
      " 'A deaf Palestinian expresses his joy after getting a sack of wheat',\n",
      " 'A sample of the racism faced by Arab Israeli citizens living in Israel']\n",
      "____________________________________________________________________________________________________________\n",
      "Quelque negative headlines:\n",
      "['South Africa presents its case against Israel at the ICJ',\n",
      " 'Reporter showing digged up cemetery by IOF in Gaza.',\n",
      " 'Sheikh Jarrah 2021',\n",
      " 'Interesting to see if they succeed how much Democracy and Freedom will be in their future.',\n",
      " 'Anyone know where I can find the files for these (and similar) stickers so I can have them printed?']\n"
     ]
    }
   ],
   "source": [
    "print(\"Quelque positive headlines:\")\n",
    "pprint(list(df_score[df_score['Score']==1].Titre)[:5],width=200)\n",
    "\n",
    "print(\"____________________________________________________________________________________________________________\")\n",
    "\n",
    "print(\"Quelque neutre headlines:\")\n",
    "pprint(list(df_score[df_score['Score']==0].Titre)[:5],width=200)\n",
    "\n",
    "print(\"____________________________________________________________________________________________________________\")\n",
    "\n",
    "print(\"Quelque negative headlines:\")\n",
    "pprint(list(df_score[df_score['Score']==-1].Titre)[:5],width=200)"
   ]
  },
  {
   "cell_type": "code",
   "execution_count": 46,
   "metadata": {
    "colab": {
     "base_uri": "https://localhost:8080/",
     "height": 699
    },
    "id": "-aAn65FDj68v",
    "outputId": "1fb9934e-182a-4311-d273-60cb188cb070"
   },
   "outputs": [
    {
     "data": {
      "image/png": "[encoded data removed]",
      "text/plain": [
       "<Figure size 800x800 with 1 Axes>"
      ]
     },
     "metadata": {},
     "output_type": "display_data"
    }
   ],
   "source": [
    "fig, ax = plt.subplots(figsize=(8, 8))\n",
    "counts=df_score.Score.value_counts(normalize=True)*100\n",
    "sns.barplot(x=counts.index,y=counts,ax=ax)\n",
    "ax.set_xticklabels(['Negative','Neutre','Positive'])\n",
    "ax.set_ylabel('Pourcentage')\n",
    "ax.set_title('Répartition des scores')\n",
    "plt.show()"
   ]
  },
  {
   "cell_type": "code",
   "execution_count": 15,
   "metadata": {
    "colab": {
     "base_uri": "https://localhost:8080/"
    },
    "id": "Au_cLFEVjYqQ",
    "outputId": "53523f06-9497-4c99-8a1d-30ca11a981e3"
   },
   "outputs": [
    {
     "name": "stdout",
     "output_type": "stream",
     "text": [
      "{'2023-12-21', '2024-01-10', '2024-01-14', '2024-01-13', '2023-12-10', '2024-01-17', '2024-01-11', '2024-01-16', '2024-01-12', '2024-01-07', '2024-01-15', '2024-01-08', '2024-01-09'}\n"
     ]
    }
   ],
   "source": [
    "dates=set()\n",
    "for date in df['Temps de création']:\n",
    "  dates.add(date)\n",
    "print(dates)"
   ]
  },
  {
   "cell_type": "code",
   "execution_count": 16,
   "metadata": {
    "colab": {
     "base_uri": "https://localhost:8080/"
    },
    "id": "CJpKGWcZk2hT",
    "outputId": "da967017-40af-4363-9272-745b490b6542"
   },
   "outputs": [
    {
     "data": {
      "text/plain": [
       "2024-01-14    88\n",
       "2024-01-13    82\n",
       "2024-01-12    81\n",
       "2024-01-15    79\n",
       "2024-01-11    65\n",
       "2024-01-10    62\n",
       "2024-01-09    59\n",
       "2024-01-16    53\n",
       "2024-01-17    46\n",
       "2024-01-08    44\n",
       "2024-01-07     6\n",
       "2023-12-10     1\n",
       "2023-12-21     1\n",
       "Name: Temps de création, dtype: int64"
      ]
     },
     "execution_count": 16,
     "metadata": {},
     "output_type": "execute_result"
    }
   ],
   "source": [
    "df['Temps de création'].value_counts()"
   ]
  },
  {
   "cell_type": "code",
   "execution_count": 17,
   "metadata": {
    "colab": {
     "base_uri": "https://localhost:8080/",
     "height": 554
    },
    "id": "LavjUqWHjpqL",
    "outputId": "29196968-27fc-4ff1-9ffd-df170ffae8a8"
   },
   "outputs": [
    {
     "data": {
      "image/png": "[encoded data removed]",
      "text/plain": [
       "<Figure size 1000x600 with 1 Axes>"
      ]
     },
     "metadata": {},
     "output_type": "display_data"
    }
   ],
   "source": [
    "submission_counts = df['Temps de création'].value_counts().sort_index()\n",
    "\n",
    "plt.figure(figsize=(10, 6))\n",
    "plt.plot(submission_counts.index, submission_counts.values, marker='o', linestyle='-')\n",
    "plt.title('Submissions Count Over Time')\n",
    "plt.xlabel('Date')\n",
    "plt.ylabel('Submissions Count')\n",
    "plt.xticks(rotation=45)\n",
    "plt.tight_layout()\n",
    "\n",
    "\n",
    "plt.show()\n"
   ]
  },
  {
   "cell_type": "code",
   "execution_count": null,
   "metadata": {
    "id": "IkPPjUKaksaa"
   },
   "outputs": [],
   "source": [
    "\n"
   ]
  },
  {
   "cell_type": "code",
   "execution_count": null,
   "metadata": {},
   "outputs": [],
   "source": []
  }
 ],
 "metadata": {
  "colab": {
   "provenance": []
  },
  "kernelspec": {
   "display_name": "base",
   "language": "python",
   "name": "python3"
  },
  "language_info": {
   "codemirror_mode": {
    "name": "ipython",
    "version": 3
   },
   "file_extension": ".py",
   "mimetype": "text/x-python",
   "name": "python",
   "nbconvert_exporter": "python",
   "pygments_lexer": "ipython3",
   "version": "3.9.12 (main, Apr  4 2022, 05:22:27) [MSC v.1916 64 bit (AMD64)]"
  },
  "vscode": {
   "interpreter": {
    "hash": "004adb9de333283c7239647cf4b35b355267006da9f4fc3463d8e30526146af6"
   }
  }
 },
 "nbformat": 4,
 "nbformat_minor": 1
}
